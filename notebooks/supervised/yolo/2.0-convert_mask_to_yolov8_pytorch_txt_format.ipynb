{
 "cells": [
  {
   "cell_type": "markdown",
   "id": "72d3cdfe-277d-45f8-bf2f-8d436c708b8e",
   "metadata": {},
   "source": [
    "# Convert Segmentation Masks to YOLOv8 PyTorch TXT Format\n",
    "\n",
    "This notebook provides some utilities and scripts to transform the raw image data and masks shared by ReefSupport into the YOLOv8 format."
   ]
  },
  {
   "cell_type": "markdown",
   "id": "4ee412d3-eaae-45ba-ae10-dc347d96950b",
   "metadata": {},
   "source": [
    "## Setup"
   ]
  },
  {
   "cell_type": "markdown",
   "id": "485cf19b-0643-4be8-99de-428bb3a42887",
   "metadata": {},
   "source": [
    "### Imports"
   ]
  },
  {
   "cell_type": "code",
   "execution_count": 1,
   "id": "e792f93f-3e45-4bd2-b705-85654f7082b8",
   "metadata": {},
   "outputs": [],
   "source": [
    "import os\n",
    "import cv2\n",
    "import matplotlib.pyplot as plt\n",
    "import numpy as np\n",
    "from pathlib import Path\n",
    "from tqdm.notebook import trange, tqdm\n",
    "import shutil"
   ]
  },
  {
   "cell_type": "markdown",
   "id": "06d58bda-e91c-4228-b0bd-a8d2d2e8c40d",
   "metadata": {},
   "source": [
    "### Global variables\n",
    "\n",
    "Adjust the `INPUT_DIR_DATASET_ROOT_RS_LABELLED` and `OUTPUT_DIR_YOLOV8_INSTANCE_SEGMENTATION_LABELS` paths to match your filesystem setup."
   ]
  },
  {
   "cell_type": "code",
   "execution_count": 2,
   "id": "d2bb2685-868c-4c43-bb24-600c80d0ff81",
   "metadata": {},
   "outputs": [],
   "source": [
    "LABEL_TO_CLASS_MAPPING = {\n",
    "    'soft_coral': 0,\n",
    "    'hard_coral': 1\n",
    "    }\n",
    "CLASS_TO_LABEL_MAPPING = {v: k for k, v in LABEL_TO_CLASS_MAPPING.items()}\n",
    "COLOR_TO_LABEL_MAPPING = {\n",
    "    (0, 0, 0):   'other',       # Black\n",
    "    (0, 0, 255): 'soft_coral',  # Blue\n",
    "    (255, 0, 0): 'hard_coral',  # Red\n",
    "}\n",
    "LABEL_TO_COLOR_MAPPING = {v: k for k, v in COLOR_TO_LABEL_MAPPING.items()}\n",
    "\n",
    "# IMPORTANT: Modify these two paths to point to your own data\n",
    "INPUT_DIR_DATASET_ROOT_RS_LABELLED = Path('/home/chouffe/playground/datasets/benthic_datasets/mask_labels/rs_labelled')\n",
    "OUTPUT_DIR_YOLOV8_INSTANCE_SEGMENTATION_LABELS = Path('/home/chouffe/playground/datasets/yolov8/benthic_datasets/instance_segmentation')\n",
    "\n",
    "# For type hints\n",
    "Contour = np.ndarray\n",
    "Mask = np.ndarray\n",
    "Polygon = np.ndarray"
   ]
  },
  {
   "cell_type": "markdown",
   "id": "e95e653a-f225-4499-9479-b480325a3df2",
   "metadata": {},
   "source": [
    "### functions and utils"
   ]
  },
  {
   "cell_type": "code",
   "execution_count": 3,
   "id": "e0119c2f-c4ec-4f87-887e-bd912088bdc3",
   "metadata": {},
   "outputs": [],
   "source": [
    "def get_all_dataset_names(path: Path) -> list[str]:\n",
    "  return [f for f in os.listdir(path) if os.path.isdir(path / f)]\n",
    "\n",
    "def filepath_to_ndarray(filepath: Path) -> np.ndarray:\n",
    "    return cv2.imread(str(filepath))\n",
    "\n",
    "def scaffold_output_dir() -> None:\n",
    "    if not os.path.isdir(OUTPUT_DIR_YOLOV8_INSTANCE_SEGMENTATION_LABELS):\n",
    "      os.makedirs(OUTPUT_DIR_YOLOV8_INSTANCE_SEGMENTATION_LABELS)\n",
    "\n",
    "def list_all_mask_filepaths(dataset_name: str) -> list[Path]:\n",
    "    path = INPUT_DIR_DATASET_ROOT_RS_LABELLED / dataset_name / 'masks'\n",
    "    return [path / f for f in os.listdir(path) if os.path.isfile(path / f)]\n",
    "\n",
    "def is_only_black_pixels(mask: Mask) -> bool:\n",
    "  \"\"\"\n",
    "  Returns True if the mask image is only black pixels.\n",
    "  \"\"\"\n",
    "  non_black_pixels = np.any(mask != [0, 0, 0], axis=-1)\n",
    "  black_pixels = ~non_black_pixels\n",
    "  return black_pixels.all()\n",
    "\n",
    "\n",
    "def mask_label(mask: Mask) -> str:\n",
    "  \"\"\"\n",
    "  Returns the class of the mask (nd_array) as a string in {other, soft_coral,\n",
    "  hard_coral}\n",
    "  Assumption: one mask file will only label one type of coral (either blue or\n",
    "  red).\n",
    "  \"\"\"\n",
    "  idx = np.any(mask != [0, 0, 0], axis=-1)\n",
    "  color_tuple = tuple(mask[idx][0])\n",
    "  return COLOR_TO_LABEL_MAPPING.get(color_tuple, 'other')"
   ]
  },
  {
   "cell_type": "code",
   "execution_count": 4,
   "id": "c1db38c8-7754-452a-865d-17ca0e9c2d41",
   "metadata": {},
   "outputs": [],
   "source": [
    "def normalize_polygon(polygon, W: int, H: int) -> Polygon:\n",
    "  \"\"\"\n",
    "  `polygon`: numpy array of shape (_,2) containing the polygon x,y coordinates.\n",
    "  `W`: int - width of the image / mask\n",
    "  `H`: int - height of the image / mask\n",
    "\n",
    "  returns a numpy array of shape `polygon.shape` with coordinates that are\n",
    "  normalized between 0-1.\n",
    "\n",
    "  Will throw an assertion error if all values of the result do not lie in 0-1.\n",
    "  \"\"\"\n",
    "  copy = np.copy(polygon)\n",
    "  copy = copy.astype(np.float16)\n",
    "  copy[:,0] *= 1 / W\n",
    "  copy[:,1] *= 1 / H\n",
    "\n",
    "  assert ((copy >= 0) & (copy <= 1)).all(), f\"normalized_polygon values are not all in range 0-1, got: {copy}\"\n",
    "\n",
    "  return copy\n",
    "    \n",
    "\n",
    "def normalize_bounding_box(bbox, W: int, H: int):\n",
    "  \"\"\"\n",
    "  Returns xcyxwh bounding box coordinate to follow the yolov8 format.\n",
    "  \"\"\"\n",
    "  (x0, y0, x1, y1) = bbox\n",
    "  xcenter = (x0 + x1) / 2. / W\n",
    "  ycenter = (y0 + y1) / 2. / H\n",
    "  w = abs(x0 - x1) / W\n",
    "  h = abs(y0 - y1) / H\n",
    "  return (xcenter, ycenter, w, h)\n",
    "\n",
    "\n",
    "def contours_to_polygons(contours: list[Contour]) -> list[Polygon]:\n",
    "    \"\"\"\n",
    "    Turn a list of contours into a list of polygons\n",
    "    \"\"\"\n",
    "    polygons = []\n",
    "    for contour in contours:\n",
    "        polygon_list = []\n",
    "        for point in contour:\n",
    "          x, y = point[0]\n",
    "          polygon_list.append(np.array([x,y]))\n",
    "        polygon = np.array(polygon_list)\n",
    "        polygons.append(polygon)\n",
    "    return polygons\n",
    "\n",
    "\n",
    "def is_contour_area_large_enough(contour: Contour, threshold: int = 200) -> bool:\n",
    "    return cv2.contourArea(contour) > threshold\n",
    "\n",
    "\n",
    "def mask_to_contours(mask: Mask) -> list[Contour]:\n",
    "    \"\"\"\n",
    "    Given a mask, it returns its contours.\n",
    "    \"\"\"\n",
    "    # Loading the mask in grey, only format supported by cv2.findContours\n",
    "    mask_grey = cv2.cvtColor(mask, cv2.COLOR_BGR2GRAY)\n",
    "    contours, _ = cv2.findContours(mask_grey, cv2.RETR_EXTERNAL, cv2.CHAIN_APPROX_SIMPLE)\n",
    "    # Only keep the areas that are big enough\n",
    "    valid_contours = [contour for contour in contours if is_contour_area_large_enough(contour)]\n",
    "    return valid_contours\n",
    "\n",
    "def display_contours(mask: Mask, contours: list[Contour]) -> None:\n",
    "    \"\"\"\n",
    "    Display the contours information, useful for debugging.\n",
    "    \"\"\"\n",
    "    N = len(contours)\n",
    "    label = mask_label(mask)\n",
    "    f, axs = plt.subplots(1, N+1, figsize=(15, 15))\n",
    "    \n",
    "    plt.subplot(1, N+1, 1)\n",
    "    plt.imshow(mask)\n",
    "    plt.title('Mask')\n",
    "\n",
    "    color = LABEL_TO_COLOR_MAPPING[label]\n",
    "    thickness = 10\n",
    "    for i, contour in enumerate(contours):\n",
    "        image_black = np.zeros(mask.shape, dtype=np.uint8)\n",
    "        image_contour = cv2.drawContours(image_black, [contour], -1, color, thickness)\n",
    "        plt.subplot(1, N+1, i+2)\n",
    "        plt.imshow(image_contour)\n",
    "        plt.title(f'Contour {i}')\n",
    "\n",
    "    plt.show()\n",
    "\n",
    "# Yolov8 PyTorch TXT format\n",
    "\n",
    "def stringify_polygon(polygon: Polygon) -> str:\n",
    "  \"\"\"\n",
    "  Turns a polygon nd_array into a string in the right YOLOv8 format.\n",
    "  \"\"\"\n",
    "  return ' '.join([f'{x} {y}' for (x, y) in polygon])\n",
    "\n",
    "\n",
    "def stringify_bounding_box(bbox) -> str:\n",
    "  \"\"\"\n",
    "  Turns a polygon nd_array into a string in the right YOLOv8 format.\n",
    "  \"\"\"\n",
    "  xc, yc, w, h = bbox\n",
    "  return f'{xc} {yc} {w} {h}'\n",
    "\n",
    "\n",
    "def mask_filepath_to_yolov8_format_string(filepath: Path) -> str:\n",
    "    \"\"\"\n",
    "    Given a `filepath` for an individual mask, it returns a yolov8 format string describing \n",
    "    the polygons for the segmentation tasks.\n",
    "    \"\"\"\n",
    "    mask = filepath_to_ndarray(filepath)\n",
    "    if is_only_black_pixels(mask):\n",
    "        return ''\n",
    "    else:\n",
    "        label_class = LABEL_TO_CLASS_MAPPING[mask_label(mask)]\n",
    "        H, W, _ = mask.shape\n",
    "        contours = mask_to_contours(mask)\n",
    "        polygons = contours_to_polygons(contours)\n",
    "        normalized_polygons = [normalize_polygon(p, W, H) for p in polygons]\n",
    "        return '\\n'.join([f'{label_class} {stringify_polygon(p)}' for p in normalized_polygons])\n",
    "\n",
    "\n",
    "def generate_dataset_individual_mask_labels(dataset_name: str, output_dir: Path = OUTPUT_DIR_YOLOV8_INSTANCE_SEGMENTATION_LABELS) -> None:\n",
    "    \"\"\"\n",
    "    Given a `dataset_name` (see function get_all_dataset_names`, it generates the instance \n",
    "    segmentation labels in `output_dir`.\n",
    "    \"\"\"\n",
    "    filepaths = list_all_mask_filepaths(dataset_name)\n",
    "    output_filepath_root = output_dir / dataset_name / 'labels/individual/' \n",
    "\n",
    "    if not os.path.exists(output_filepath_root): \n",
    "        os.makedirs(output_filepath_root)\n",
    "    \n",
    "    for filepath in tqdm(filepaths):\n",
    "        output_filepath = output_filepath_root / f'{filepath.stem}.txt'\n",
    "        content = mask_filepath_to_yolov8_format_string(filepath)\n",
    "        if os.path.exists(output_filepath):\n",
    "            os.remove(output_filepath)\n",
    "        with open(output_filepath, 'x') as f:\n",
    "            f.write(content)\n",
    "\n",
    "\n",
    "def prefix_to_mask_filepaths(dataset_name: str, prefix: str, output_dir=OUTPUT_DIR_YOLOV8_INSTANCE_SEGMENTATION_LABELS) -> list[Path]:\n",
    "    path: Path = OUTPUT_DIR_YOLOV8_INSTANCE_SEGMENTATION_LABELS / dataset_name / 'labels/individual'\n",
    "    return [Path(path / f) for f in os.listdir(path) if f.startswith(prefix)]\n",
    "\n",
    "\n",
    "def filepath_to_content(filepath: Path) -> str:\n",
    "    \"\"\"\n",
    "    Given a path, it returns its content as a string\n",
    "    \"\"\"\n",
    "    with open(filepath, 'r') as f:\n",
    "      return f.read()\n",
    "\n",
    "\n",
    "def stitch_mask_label_yolov8_format_string(dataset_name: str, mask_stitched_filepath: Path) -> str:\n",
    "    \"\"\"\n",
    "    Returns the YOLOv8 PyTorch TXT format as a string for the given \n",
    "    `mask_stitched_filepath` and `dataset_name`.\n",
    "    \"\"\"\n",
    "    prefix = mask_stitched_filepath.stem\n",
    "    individual_mask_filepaths = prefix_to_mask_filepaths(dataset_name, prefix)\n",
    "    return '\\n'.join([filepath_to_content(path) for path in individual_mask_filepaths])\n",
    "\n",
    "\n",
    "def generate_stitched_masks_labels_for_dataset_name(dataset_name: str, output_dir=OUTPUT_DIR_YOLOV8_INSTANCE_SEGMENTATION_LABELS) -> None:\n",
    "    output_filepath_root = OUTPUT_DIR_YOLOV8_INSTANCE_SEGMENTATION_LABELS / dataset_name / 'labels' / 'stitched'\n",
    "    if not os.path.exists(output_filepath_root):\n",
    "        os.makedirs(output_filepath_root)\n",
    "\n",
    "    path = INPUT_DIR_DATASET_ROOT_RS_LABELLED / dataset_name / 'masks_stitched'\n",
    "    masks_stitched_filepaths = [Path(path / f) for f in os.listdir(path)]\n",
    "    \n",
    "    for mask_stitched_filepath in tqdm(masks_stitched_filepaths):\n",
    "        content = stitch_mask_label_yolov8_format_string(dataset_name, mask_stitched_filepath)\n",
    "        output_filepath = output_filepath_root / f'{mask_stitched_filepath.stem}.txt'\n",
    "        if os.path.exists(output_filepath):\n",
    "            os.remove(output_filepath)\n",
    "        with open(output_filepath, 'x') as f:\n",
    "            f.write(content)\n",
    "\n",
    "def generate_all_stitched_masks_labels(output_dir=OUTPUT_DIR_YOLOV8_INSTANCE_SEGMENTATION_LABELS) -> None:\n",
    "    for dataset_name in tqdm(get_all_dataset_names(INPUT_DIR_DATASET_ROOT_RS_LABELLED)):\n",
    "        print(f'Generating stitched mask labels for {dataset_name}')\n",
    "        generate_stitched_masks_labels_for_dataset_name(dataset_name)\n",
    "\n",
    "# TODO: fix the dataset generation for other datasets\n",
    "def generate_image_labels_for_dataset(dataset_name: str, output_dir=OUTPUT_DIR_YOLOV8_INSTANCE_SEGMENTATION_LABELS) -> None:\n",
    "    output_path_stitched_labels_root = OUTPUT_DIR_YOLOV8_INSTANCE_SEGMENTATION_LABELS / dataset_name / 'labels' / 'stitched'\n",
    "    output_path_image_labels_root = output_dir / dataset_name / 'labels' / 'images'\n",
    "\n",
    "    if not os.path.exists(output_path_image_labels_root):\n",
    "        os.makedirs(output_path_image_labels_root)\n",
    "    \n",
    "    masks_stitched_filepaths = [output_path_stitched_labels_root / f for f in os.listdir(output_path_stitched_labels_root)]\n",
    "    for p in masks_stitched_filepaths:\n",
    "        image_label_filename = p.name.replace('_mask', '')\n",
    "        image_label_filepath = output_path_image_labels_root / image_label_filename\n",
    "        if os.path.exists(image_label_filepath):\n",
    "            os.remove(image_label_filepath)\n",
    "        content = filepath_to_content(p)\n",
    "        with open(image_label_filepath, 'x') as f:\n",
    "            f.write(content)\n",
    "\n",
    "def generate_image_labels(output_dir=OUTPUT_DIR_YOLOV8_INSTANCE_SEGMENTATION_LABELS) -> None:\n",
    "    for dataset_name in tqdm(get_all_dataset_names(INPUT_DIR_DATASET_ROOT_RS_LABELLED)):\n",
    "        print(f'Generating image labels for {dataset_name}')\n",
    "        generate_image_labels_for_dataset(dataset_name)"
   ]
  },
  {
   "cell_type": "markdown",
   "id": "0426410c-8707-46ea-b293-beb377801eff",
   "metadata": {},
   "source": [
    "## Data transformation "
   ]
  },
  {
   "cell_type": "markdown",
   "id": "ecaf96cc-749b-40ef-a54c-64b9804d05a6",
   "metadata": {},
   "source": [
    "### Datasets"
   ]
  },
  {
   "cell_type": "code",
   "execution_count": 5,
   "id": "65e7a831-8b34-4331-9d68-088e97bd2b46",
   "metadata": {},
   "outputs": [],
   "source": [
    "# We prepare the output dir structure for the labels\n",
    "scaffold_output_dir()"
   ]
  },
  {
   "cell_type": "code",
   "execution_count": 6,
   "id": "a8341f9a-7ef3-4d7b-9ede-cbd51f887313",
   "metadata": {},
   "outputs": [
    {
     "data": {
      "text/plain": [
       "['SEAFLOWER_BOLIVAR',\n",
       " 'SEAVIEW_PAC_AUS',\n",
       " 'SEAFLOWER_COURTOWN',\n",
       " 'SEAVIEW_IDN_PHL',\n",
       " 'SEAVIEW_ATL',\n",
       " 'TETES_PROVIDENCIA',\n",
       " 'SEAVIEW_PAC_USA']"
      ]
     },
     "execution_count": 6,
     "metadata": {},
     "output_type": "execute_result"
    }
   ],
   "source": [
    "# List all dataset_names in the INPUT_DIR\n",
    "all_dataset_names = get_all_dataset_names(INPUT_DIR_DATASET_ROOT_RS_LABELLED)\n",
    "all_dataset_names"
   ]
  },
  {
   "cell_type": "markdown",
   "id": "2f2aca96-52a9-4acd-8a90-716d4be96a2a",
   "metadata": {},
   "source": [
    "We assume the following folder structure in a dataset:\n",
    "\n",
    "```\n",
    ".\n",
    "├── DATASET_NAME\n",
    "│   ├── images\n",
    "│   ├── masks\n",
    "│   └── masks_stitched\n",
    "```\n"
   ]
  },
  {
   "cell_type": "code",
   "execution_count": 9,
   "id": "2b52a2a2-2677-4d62-888d-30c15f4bd62a",
   "metadata": {},
   "outputs": [
    {
     "name": "stdout",
     "output_type": "stream",
     "text": [
      "\u001b[01;34m/home/chouffe/playground/datasets/benthic_datasets/mask_labels/rs_labelled\u001b[0m\n",
      "├── \u001b[01;34mSEAFLOWER_BOLIVAR\u001b[0m\n",
      "│   ├── \u001b[01;34mimages\u001b[0m\n",
      "│   ├── \u001b[01;34mmasks\u001b[0m\n",
      "│   └── \u001b[01;34mmasks_stitched\u001b[0m\n",
      "├── \u001b[01;34mSEAFLOWER_COURTOWN\u001b[0m\n",
      "│   ├── \u001b[01;34mimages\u001b[0m\n",
      "│   ├── \u001b[01;34mmasks\u001b[0m\n",
      "│   └── \u001b[01;34mmasks_stitched\u001b[0m\n",
      "├── \u001b[01;34mSEAVIEW_ATL\u001b[0m\n",
      "│   ├── \u001b[01;34mimages\u001b[0m\n",
      "│   ├── \u001b[01;34mmasks\u001b[0m\n",
      "│   └── \u001b[01;34mmasks_stitched\u001b[0m\n",
      "├── \u001b[01;34mSEAVIEW_IDN_PHL\u001b[0m\n",
      "│   ├── \u001b[01;34mimages\u001b[0m\n",
      "│   ├── \u001b[01;34mmasks\u001b[0m\n",
      "│   └── \u001b[01;34mmasks_stitched\u001b[0m\n",
      "├── \u001b[01;34mSEAVIEW_PAC_AUS\u001b[0m\n",
      "│   ├── \u001b[01;34mimages\u001b[0m\n",
      "│   ├── \u001b[01;34mmasks\u001b[0m\n",
      "│   └── \u001b[01;34mmasks_stitched\u001b[0m\n",
      "├── \u001b[01;34mSEAVIEW_PAC_USA\u001b[0m\n",
      "│   ├── \u001b[01;34mimages\u001b[0m\n",
      "│   ├── \u001b[01;34mmasks\u001b[0m\n",
      "│   └── \u001b[01;34mmasks_stitched\u001b[0m\n",
      "└── \u001b[01;34mTETES_PROVIDENCIA\u001b[0m\n",
      "    ├── \u001b[01;34mimages\u001b[0m\n",
      "    ├── \u001b[01;34mmasks\u001b[0m\n",
      "    └── \u001b[01;34mmasks_stitched\u001b[0m\n",
      "\n",
      "28 directories\n"
     ]
    }
   ],
   "source": [
    "!tree -d -L 2 $INPUT_DIR_DATASET_ROOT_RS_LABELLED"
   ]
  },
  {
   "cell_type": "markdown",
   "id": "7409edab-8663-49db-b34c-77a812a0e58a",
   "metadata": {},
   "source": [
    "### Visualization"
   ]
  },
  {
   "cell_type": "code",
   "execution_count": 11,
   "id": "88dc110e-9395-4f12-891c-7f0b1d3c1bde",
   "metadata": {},
   "outputs": [
    {
     "data": {
      "image/png": "[encoded data removed]",
      "text/plain": [
       "<Figure size 1500x1500 with 2 Axes>"
      ]
     },
     "metadata": {},
     "output_type": "display_data"
    }
   ],
   "source": [
    "dataset_name = all_dataset_names[0]\n",
    "filepaths = list_all_mask_filepaths(dataset_name)\n",
    "mask = filepath_to_ndarray(filepaths[0])\n",
    "contours = mask_to_contours(mask)\n",
    "display_contours(mask, contours)"
   ]
  },
  {
   "cell_type": "markdown",
   "id": "e7ab5326-5eec-4678-b378-ffbf9e8356e2",
   "metadata": {},
   "source": [
    "### Generate individual mask labels\n",
    "\n",
    "In this section we generate all the individual mask labels. It will take a very long time (~1h / 1h30) depending on your machine setup."
   ]
  },
  {
   "cell_type": "code",
   "execution_count": 106,
   "id": "af13b1af-c165-4eac-9c82-7fce5af4d247",
   "metadata": {},
   "outputs": [
    {
     "data": {
      "application/vnd.jupyter.widget-view+json": {
       "model_id": "f64092fe0d97452a97def973b912ac6c",
       "version_major": 2,
       "version_minor": 0
      },
      "text/plain": [
       "  0%|          | 0/7 [00:00<?, ?it/s]"
      ]
     },
     "metadata": {},
     "output_type": "display_data"
    }
   ],
   "source": [
    "# Generate the labels in parallel\n",
    "# Will take a long time to call opencv on each individual mask\n",
    "import multiprocessing as mp\n",
    "\n",
    "dataset_names = get_all_dataset_names(INPUT_DIR_DATASET_ROOT_RS_LABELLED)\n",
    "with mp.Pool(mp.cpu_count()) as pool:\n",
    "    list(tqdm(pool.imap(generate_dataset_individual_mask_labels, dataset_names), total=len(dataset_names)))"
   ]
  },
  {
   "cell_type": "markdown",
   "id": "8725c847-88ff-4182-b5c0-c55baeda66a8",
   "metadata": {},
   "source": [
    "### Generate stitched mask labels\n",
    "\n",
    "Very fast operation that stitches together all the individual mask labels"
   ]
  },
  {
   "cell_type": "code",
   "execution_count": 199,
   "id": "33cfe900-fed8-4f99-a32d-4e575b26ab29",
   "metadata": {},
   "outputs": [
    {
     "data": {
      "application/vnd.jupyter.widget-view+json": {
       "model_id": "9397c2706e2d45c5ae5d018cd6e0468a",
       "version_major": 2,
       "version_minor": 0
      },
      "text/plain": [
       "  0%|          | 0/7 [00:00<?, ?it/s]"
      ]
     },
     "metadata": {},
     "output_type": "display_data"
    },
    {
     "name": "stdout",
     "output_type": "stream",
     "text": [
      "Generating stitched mask labels for SEAFLOWER_BOLIVAR\n"
     ]
    },
    {
     "data": {
      "application/vnd.jupyter.widget-view+json": {
       "model_id": "25a87a5cec7140aa9eab2e3cf77d7904",
       "version_major": 2,
       "version_minor": 0
      },
      "text/plain": [
       "  0%|          | 0/246 [00:00<?, ?it/s]"
      ]
     },
     "metadata": {},
     "output_type": "display_data"
    },
    {
     "name": "stdout",
     "output_type": "stream",
     "text": [
      "Generating stitched mask labels for SEAVIEW_PAC_AUS\n"
     ]
    },
    {
     "data": {
      "application/vnd.jupyter.widget-view+json": {
       "model_id": "c735dbc7e73747459dccf67c30c0d812",
       "version_major": 2,
       "version_minor": 0
      },
      "text/plain": [
       "  0%|          | 0/808 [00:00<?, ?it/s]"
      ]
     },
     "metadata": {},
     "output_type": "display_data"
    },
    {
     "name": "stdout",
     "output_type": "stream",
     "text": [
      "Generating stitched mask labels for SEAFLOWER_COURTOWN\n"
     ]
    },
    {
     "data": {
      "application/vnd.jupyter.widget-view+json": {
       "model_id": "7834cb526ae04119938273109f7566e8",
       "version_major": 2,
       "version_minor": 0
      },
      "text/plain": [
       "  0%|          | 0/241 [00:00<?, ?it/s]"
      ]
     },
     "metadata": {},
     "output_type": "display_data"
    },
    {
     "name": "stdout",
     "output_type": "stream",
     "text": [
      "Generating stitched mask labels for SEAVIEW_IDN_PHL\n"
     ]
    },
    {
     "data": {
      "application/vnd.jupyter.widget-view+json": {
       "model_id": "9c7a8c1e8b08478a8ab145d1bedaa1ba",
       "version_major": 2,
       "version_minor": 0
      },
      "text/plain": [
       "  0%|          | 0/466 [00:00<?, ?it/s]"
      ]
     },
     "metadata": {},
     "output_type": "display_data"
    },
    {
     "name": "stdout",
     "output_type": "stream",
     "text": [
      "Generating stitched mask labels for SEAVIEW_ATL\n"
     ]
    },
    {
     "data": {
      "application/vnd.jupyter.widget-view+json": {
       "model_id": "14d5ede8b34b48adb63a0a6e0017aad9",
       "version_major": 2,
       "version_minor": 0
      },
      "text/plain": [
       "  0%|          | 0/705 [00:00<?, ?it/s]"
      ]
     },
     "metadata": {},
     "output_type": "display_data"
    },
    {
     "name": "stdout",
     "output_type": "stream",
     "text": [
      "Generating stitched mask labels for TETES_PROVIDENCIA\n"
     ]
    },
    {
     "data": {
      "application/vnd.jupyter.widget-view+json": {
       "model_id": "3064c42e481d49aa84683ba4966e7523",
       "version_major": 2,
       "version_minor": 0
      },
      "text/plain": [
       "  0%|          | 0/105 [00:00<?, ?it/s]"
      ]
     },
     "metadata": {},
     "output_type": "display_data"
    },
    {
     "name": "stdout",
     "output_type": "stream",
     "text": [
      "Generating stitched mask labels for SEAVIEW_PAC_USA\n"
     ]
    },
    {
     "data": {
      "application/vnd.jupyter.widget-view+json": {
       "model_id": "f7e2d7efbe044ed29ec52caaac150840",
       "version_major": 2,
       "version_minor": 0
      },
      "text/plain": [
       "  0%|          | 0/728 [00:00<?, ?it/s]"
      ]
     },
     "metadata": {},
     "output_type": "display_data"
    }
   ],
   "source": [
    "generate_all_stitched_masks_labels()"
   ]
  },
  {
   "cell_type": "markdown",
   "id": "fcc5cee2-36ee-498c-ad47-ccf1b7fd3132",
   "metadata": {},
   "source": [
    "### Generate image labels"
   ]
  },
  {
   "cell_type": "code",
   "execution_count": 225,
   "id": "e2b5aa42-9ea3-4486-8f44-c6a6e8c2403d",
   "metadata": {},
   "outputs": [
    {
     "data": {
      "application/vnd.jupyter.widget-view+json": {
       "model_id": "4a45fa2ab79b47488e21754438e5c3ba",
       "version_major": 2,
       "version_minor": 0
      },
      "text/plain": [
       "  0%|          | 0/7 [00:00<?, ?it/s]"
      ]
     },
     "metadata": {},
     "output_type": "display_data"
    },
    {
     "name": "stdout",
     "output_type": "stream",
     "text": [
      "Generating image labels for SEAFLOWER_BOLIVAR\n",
      "/home/chouffe/playground/datasets/yolov8/benthic_datasets/instance_segmentation/SEAFLOWER_BOLIVAR/labels/images\n",
      "Generating image labels for SEAVIEW_PAC_AUS\n",
      "/home/chouffe/playground/datasets/yolov8/benthic_datasets/instance_segmentation/SEAVIEW_PAC_AUS/labels/images\n",
      "Generating image labels for SEAFLOWER_COURTOWN\n",
      "/home/chouffe/playground/datasets/yolov8/benthic_datasets/instance_segmentation/SEAFLOWER_COURTOWN/labels/images\n",
      "Generating image labels for SEAVIEW_IDN_PHL\n",
      "/home/chouffe/playground/datasets/yolov8/benthic_datasets/instance_segmentation/SEAVIEW_IDN_PHL/labels/images\n",
      "creating dir\n",
      "Generating image labels for SEAVIEW_ATL\n",
      "/home/chouffe/playground/datasets/yolov8/benthic_datasets/instance_segmentation/SEAVIEW_ATL/labels/images\n",
      "creating dir\n",
      "Generating image labels for TETES_PROVIDENCIA\n",
      "/home/chouffe/playground/datasets/yolov8/benthic_datasets/instance_segmentation/TETES_PROVIDENCIA/labels/images\n",
      "creating dir\n",
      "Generating image labels for SEAVIEW_PAC_USA\n",
      "/home/chouffe/playground/datasets/yolov8/benthic_datasets/instance_segmentation/SEAVIEW_PAC_USA/labels/images\n",
      "creating dir\n"
     ]
    }
   ],
   "source": [
    "generate_image_labels()"
   ]
  },
  {
   "cell_type": "markdown",
   "id": "04ce5982-db57-4cea-bb22-a007e54b80aa",
   "metadata": {},
   "source": [
    "### Export and share\n",
    "\n",
    "Make a zip archive to easily share the labels."
   ]
  },
  {
   "cell_type": "code",
   "execution_count": 12,
   "id": "8ee9321e-37f2-4992-a40d-d1d8e4c6b2bc",
   "metadata": {},
   "outputs": [
    {
     "name": "stdout",
     "output_type": "stream",
     "text": [
      "\u001b[01;34m/home/chouffe/playground/datasets/yolov8/benthic_datasets/instance_segmentation\u001b[0m\n",
      "├── \u001b[01;34mSEAFLOWER_BOLIVAR\u001b[0m\n",
      "│   └── \u001b[01;34mlabels\u001b[0m\n",
      "│       ├── \u001b[01;34mimages\u001b[0m\n",
      "│       ├── \u001b[01;34mindividual\u001b[0m\n",
      "│       └── \u001b[01;34mstitched\u001b[0m\n",
      "├── \u001b[01;34mSEAFLOWER_COURTOWN\u001b[0m\n",
      "│   └── \u001b[01;34mlabels\u001b[0m\n",
      "│       ├── \u001b[01;34mimages\u001b[0m\n",
      "│       ├── \u001b[01;34mindividual\u001b[0m\n",
      "│       └── \u001b[01;34mstitched\u001b[0m\n",
      "├── \u001b[01;34mSEAVIEW_ATL\u001b[0m\n",
      "│   └── \u001b[01;34mlabels\u001b[0m\n",
      "│       ├── \u001b[01;34mimages\u001b[0m\n",
      "│       ├── \u001b[01;34mindividual\u001b[0m\n",
      "│       └── \u001b[01;34mstitched\u001b[0m\n",
      "├── \u001b[01;34mSEAVIEW_IDN_PHL\u001b[0m\n",
      "│   └── \u001b[01;34mlabels\u001b[0m\n",
      "│       ├── \u001b[01;34mimages\u001b[0m\n",
      "│       ├── \u001b[01;34mindividual\u001b[0m\n",
      "│       └── \u001b[01;34mstitched\u001b[0m\n",
      "├── \u001b[01;34mSEAVIEW_PAC_AUS\u001b[0m\n",
      "│   └── \u001b[01;34mlabels\u001b[0m\n",
      "│       ├── \u001b[01;34mimages\u001b[0m\n",
      "│       ├── \u001b[01;34mindividual\u001b[0m\n",
      "│       └── \u001b[01;34mstitched\u001b[0m\n",
      "├── \u001b[01;34mSEAVIEW_PAC_USA\u001b[0m\n",
      "│   └── \u001b[01;34mlabels\u001b[0m\n",
      "│       ├── \u001b[01;34mimages\u001b[0m\n",
      "│       ├── \u001b[01;34mindividual\u001b[0m\n",
      "│       └── \u001b[01;34mstitched\u001b[0m\n",
      "└── \u001b[01;34mTETES_PROVIDENCIA\u001b[0m\n",
      "    └── \u001b[01;34mlabels\u001b[0m\n",
      "        ├── \u001b[01;34mimages\u001b[0m\n",
      "        ├── \u001b[01;34mindividual\u001b[0m\n",
      "        └── \u001b[01;34mstitched\u001b[0m\n",
      "\n",
      "35 directories\n"
     ]
    }
   ],
   "source": [
    "# Overview of the labels we generated\n",
    "!tree -d -L 3 $OUTPUT_DIR_YOLOV8_INSTANCE_SEGMENTATION_LABELS"
   ]
  },
  {
   "cell_type": "code",
   "execution_count": 228,
   "id": "b9b85101-52e4-4ea2-add2-bd48c4350f22",
   "metadata": {},
   "outputs": [
    {
     "data": {
      "text/plain": [
       "'/home/chouffe/playground/datasets/yolov8/benthic_datasets/instance_segmentation/archive.zip'"
      ]
     },
     "execution_count": 228,
     "metadata": {},
     "output_type": "execute_result"
    }
   ],
   "source": [
    "# Make an archive zip file to make it easy to share and distribute\n",
    "shutil.make_archive(\n",
    "    OUTPUT_DIR_YOLOV8_INSTANCE_SEGMENTATION_LABELS / 'archive', \n",
    "    'zip', \n",
    "    OUTPUT_DIR_YOLOV8_INSTANCE_SEGMENTATION_LABELS\n",
    ")"
   ]
  },
  {
   "cell_type": "code",
   "execution_count": null,
   "id": "fd03b877-c16f-401c-82be-4bf5effaebfa",
   "metadata": {},
   "outputs": [],
   "source": []
  }
 ],
 "metadata": {
  "kernelspec": {
   "display_name": "Python 3 (ipykernel)",
   "language": "python",
   "name": "python3"
  },
  "language_info": {
   "codemirror_mode": {
    "name": "ipython",
    "version": 3
   },
   "file_extension": ".py",
   "mimetype": "text/x-python",
   "name": "python",
   "nbconvert_exporter": "python",
   "pygments_lexer": "ipython3",
   "version": "3.9.18"
  }
 },
 "nbformat": 4,
 "nbformat_minor": 5
}
