{
 "cells": [
  {
   "cell_type": "markdown",
   "metadata": {
    "id": "yYlmnjXFQhbf"
   },
   "source": [
    "# YOLOv8 Training Notebook\n",
    "\n",
    "In this Notebook, we setup the training pipeline for the YOLOv8 model."
   ]
  },
  {
   "cell_type": "markdown",
   "metadata": {
    "id": "bPxf4m1QMTtV"
   },
   "source": [
    "## Setup"
   ]
  },
  {
   "cell_type": "markdown",
   "metadata": {
    "id": "N0gyY-jVMGdn"
   },
   "source": [
    "### Dependencies"
   ]
  },
  {
   "cell_type": "code",
   "execution_count": 1,
   "metadata": {
    "colab": {
     "base_uri": "https://localhost:8080/"
    },
    "id": "UsJqM-llTIGV",
    "outputId": "8cb2e897-84bb-44a5-89db-0c827c83d306"
   },
   "outputs": [
    {
     "name": "stdout",
     "output_type": "stream",
     "text": [
      "Collecting ultralytics\n",
      "  Downloading ultralytics-8.0.225-py3-none-any.whl (660 kB)\n",
      "\u001b[?25l     \u001b[90m━━━━━━━━━━━━━━━━━━━━━━━━━━━━━━━━━━━━━━━━\u001b[0m \u001b[32m0.0/660.1 kB\u001b[0m \u001b[31m?\u001b[0m eta \u001b[36m-:--:--\u001b[0m\r",
      "\u001b[2K     \u001b[91m━━━━\u001b[0m\u001b[91m╸\u001b[0m\u001b[90m━━━━━━━━━━━━━━━━━━━━━━━━━━━━━━━━━━━\u001b[0m \u001b[32m81.9/660.1 kB\u001b[0m \u001b[31m2.6 MB/s\u001b[0m eta \u001b[36m0:00:01\u001b[0m\r",
      "\u001b[2K     \u001b[91m━━━━━━━━━━━━━━━━━━━━━━━━━━━━━━━━━━━━━━━\u001b[0m\u001b[91m╸\u001b[0m \u001b[32m655.4/660.1 kB\u001b[0m \u001b[31m10.5 MB/s\u001b[0m eta \u001b[36m0:00:01\u001b[0m\r",
      "\u001b[2K     \u001b[90m━━━━━━━━━━━━━━━━━━━━━━━━━━━━━━━━━━━━━━━━\u001b[0m \u001b[32m660.1/660.1 kB\u001b[0m \u001b[31m9.1 MB/s\u001b[0m eta \u001b[36m0:00:00\u001b[0m\n",
      "\u001b[?25hRequirement already satisfied: matplotlib>=3.3.0 in /usr/local/lib/python3.10/dist-packages (from ultralytics) (3.7.1)\n",
      "Requirement already satisfied: numpy>=1.22.2 in /usr/local/lib/python3.10/dist-packages (from ultralytics) (1.23.5)\n",
      "Requirement already satisfied: opencv-python>=4.6.0 in /usr/local/lib/python3.10/dist-packages (from ultralytics) (4.8.0.76)\n",
      "Requirement already satisfied: pillow>=7.1.2 in /usr/local/lib/python3.10/dist-packages (from ultralytics) (9.4.0)\n",
      "Requirement already satisfied: pyyaml>=5.3.1 in /usr/local/lib/python3.10/dist-packages (from ultralytics) (6.0.1)\n",
      "Requirement already satisfied: requests>=2.23.0 in /usr/local/lib/python3.10/dist-packages (from ultralytics) (2.31.0)\n",
      "Requirement already satisfied: scipy>=1.4.1 in /usr/local/lib/python3.10/dist-packages (from ultralytics) (1.11.4)\n",
      "Requirement already satisfied: torch>=1.8.0 in /usr/local/lib/python3.10/dist-packages (from ultralytics) (2.1.0+cu118)\n",
      "Requirement already satisfied: torchvision>=0.9.0 in /usr/local/lib/python3.10/dist-packages (from ultralytics) (0.16.0+cu118)\n",
      "Requirement already satisfied: tqdm>=4.64.0 in /usr/local/lib/python3.10/dist-packages (from ultralytics) (4.66.1)\n",
      "Requirement already satisfied: pandas>=1.1.4 in /usr/local/lib/python3.10/dist-packages (from ultralytics) (1.5.3)\n",
      "Requirement already satisfied: seaborn>=0.11.0 in /usr/local/lib/python3.10/dist-packages (from ultralytics) (0.12.2)\n",
      "Requirement already satisfied: psutil in /usr/local/lib/python3.10/dist-packages (from ultralytics) (5.9.5)\n",
      "Requirement already satisfied: py-cpuinfo in /usr/local/lib/python3.10/dist-packages (from ultralytics) (9.0.0)\n",
      "Collecting thop>=0.1.1 (from ultralytics)\n",
      "  Downloading thop-0.1.1.post2209072238-py3-none-any.whl (15 kB)\n",
      "Requirement already satisfied: contourpy>=1.0.1 in /usr/local/lib/python3.10/dist-packages (from matplotlib>=3.3.0->ultralytics) (1.2.0)\n",
      "Requirement already satisfied: cycler>=0.10 in /usr/local/lib/python3.10/dist-packages (from matplotlib>=3.3.0->ultralytics) (0.12.1)\n",
      "Requirement already satisfied: fonttools>=4.22.0 in /usr/local/lib/python3.10/dist-packages (from matplotlib>=3.3.0->ultralytics) (4.45.1)\n",
      "Requirement already satisfied: kiwisolver>=1.0.1 in /usr/local/lib/python3.10/dist-packages (from matplotlib>=3.3.0->ultralytics) (1.4.5)\n",
      "Requirement already satisfied: packaging>=20.0 in /usr/local/lib/python3.10/dist-packages (from matplotlib>=3.3.0->ultralytics) (23.2)\n",
      "Requirement already satisfied: pyparsing>=2.3.1 in /usr/local/lib/python3.10/dist-packages (from matplotlib>=3.3.0->ultralytics) (3.1.1)\n",
      "Requirement already satisfied: python-dateutil>=2.7 in /usr/local/lib/python3.10/dist-packages (from matplotlib>=3.3.0->ultralytics) (2.8.2)\n",
      "Requirement already satisfied: pytz>=2020.1 in /usr/local/lib/python3.10/dist-packages (from pandas>=1.1.4->ultralytics) (2023.3.post1)\n",
      "Requirement already satisfied: charset-normalizer<4,>=2 in /usr/local/lib/python3.10/dist-packages (from requests>=2.23.0->ultralytics) (3.3.2)\n",
      "Requirement already satisfied: idna<4,>=2.5 in /usr/local/lib/python3.10/dist-packages (from requests>=2.23.0->ultralytics) (3.6)\n",
      "Requirement already satisfied: urllib3<3,>=1.21.1 in /usr/local/lib/python3.10/dist-packages (from requests>=2.23.0->ultralytics) (2.0.7)\n",
      "Requirement already satisfied: certifi>=2017.4.17 in /usr/local/lib/python3.10/dist-packages (from requests>=2.23.0->ultralytics) (2023.11.17)\n",
      "Requirement already satisfied: filelock in /usr/local/lib/python3.10/dist-packages (from torch>=1.8.0->ultralytics) (3.13.1)\n",
      "Requirement already satisfied: typing-extensions in /usr/local/lib/python3.10/dist-packages (from torch>=1.8.0->ultralytics) (4.5.0)\n",
      "Requirement already satisfied: sympy in /usr/local/lib/python3.10/dist-packages (from torch>=1.8.0->ultralytics) (1.12)\n",
      "Requirement already satisfied: networkx in /usr/local/lib/python3.10/dist-packages (from torch>=1.8.0->ultralytics) (3.2.1)\n",
      "Requirement already satisfied: jinja2 in /usr/local/lib/python3.10/dist-packages (from torch>=1.8.0->ultralytics) (3.1.2)\n",
      "Requirement already satisfied: fsspec in /usr/local/lib/python3.10/dist-packages (from torch>=1.8.0->ultralytics) (2023.6.0)\n",
      "Requirement already satisfied: triton==2.1.0 in /usr/local/lib/python3.10/dist-packages (from torch>=1.8.0->ultralytics) (2.1.0)\n",
      "Requirement already satisfied: six>=1.5 in /usr/local/lib/python3.10/dist-packages (from python-dateutil>=2.7->matplotlib>=3.3.0->ultralytics) (1.16.0)\n",
      "Requirement already satisfied: MarkupSafe>=2.0 in /usr/local/lib/python3.10/dist-packages (from jinja2->torch>=1.8.0->ultralytics) (2.1.3)\n",
      "Requirement already satisfied: mpmath>=0.19 in /usr/local/lib/python3.10/dist-packages (from sympy->torch>=1.8.0->ultralytics) (1.3.0)\n",
      "Installing collected packages: thop, ultralytics\n",
      "Successfully installed thop-0.1.1.post2209072238 ultralytics-8.0.225\n"
     ]
    }
   ],
   "source": [
    "!pip install ultralytics"
   ]
  },
  {
   "cell_type": "markdown",
   "metadata": {
    "id": "Ji0TSdrPMLZf"
   },
   "source": [
    "### Imports"
   ]
  },
  {
   "cell_type": "code",
   "execution_count": 2,
   "metadata": {
    "id": "kBXf7ainDxT3"
   },
   "outputs": [],
   "source": [
    "from pathlib import Path\n",
    "import os\n",
    "import shutil\n",
    "from google.colab import drive\n",
    "import yaml"
   ]
  },
  {
   "cell_type": "markdown",
   "metadata": {
    "id": "Z0K9kshQMN8i"
   },
   "source": [
    "### Utils"
   ]
  },
  {
   "cell_type": "code",
   "execution_count": 3,
   "metadata": {
    "id": "WJUgC2s6GRXU"
   },
   "outputs": [],
   "source": [
    "class MyDumper(yaml.Dumper):\n",
    "  def increase_indent(self, flow=False, indentless=False):\n",
    "      return super(MyDumper, self).increase_indent(flow, False)\n",
    "\n",
    "\n",
    "def yaml_content(path: Path) -> dict:\n",
    "  \"\"\"\n",
    "  Returns yaml content as a python dict\n",
    "  \"\"\"\n",
    "  with open(path, 'r') as f:\n",
    "      return yaml.safe_load(f)\n",
    "\n",
    "\n",
    "def write_yaml(path: Path, data: dict) -> None:\n",
    "  \"\"\"\n",
    "  Writes yaml `data` (as a dict) to file `path` using the MyDumper class.\n",
    "  \"\"\"\n",
    "  with open(path, 'w') as f:\n",
    "      yaml.dump(data, f, Dumper=MyDumper, default_flow_style=False, sort_keys=False)\n",
    "\n",
    "\n",
    "def absolute_train_val_paths(extract_folder_path: Path, data: dict) -> dict:\n",
    "  \"\"\"\n",
    "  Make sure the paths in data.yaml are absolute and pointing to the right images\n",
    "  and labels.\n",
    "  \"\"\"\n",
    "  result = dict(data)\n",
    "  result['train'] = str(extract_folder_path / 'train' / 'images')\n",
    "  result['val'] = str(extract_folder_path / 'val' / 'images')\n",
    "  return result\n",
    "\n",
    "\n",
    "def swap_coral_class_order(extract_folder_path: Path, data: dict) -> dict:\n",
    "  \"\"\"\n",
    "  Note: an error was made using opencv when making the dataset.\n",
    "  blue and red classes got inverted and this function fixes the class string\n",
    "  labels.\n",
    "  \"\"\"\n",
    "  result = dict(data)\n",
    "  result['names'][0], result['names'][1] = result['names'][1], result['names'][0]\n",
    "  return result\n",
    "\n",
    "\n",
    "def archive_path_to_extract_folder_path(path_archive: Path, output_dir: str = '/content/datasets_ready_for_yolov8_training') -> Path:\n",
    "  extract_folder_name = path_archive.name.split('.')[0].replace('archive_', '')\n",
    "  return Path(output_dir) / extract_folder_name\n",
    "\n",
    "\n",
    "def extract_archive(path_archive: Path) -> dict:\n",
    "  # Extract the path_archive\n",
    "  extract_folder_path = archive_path_to_extract_folder_path(path_archive)\n",
    "  os.makedirs(extract_folder_path, exist_ok=True)\n",
    "  shutil.unpack_archive(path_archive, extract_folder_path)\n",
    "  print(f'archive {path_archive} extracted in {extract_folder_path}')\n",
    "\n",
    "  # Update the data_yaml file to point to the right files and labels\n",
    "  path_data_yaml: Path = extract_folder_path / 'data.yaml'\n",
    "  data_yaml: dict = yaml_content(path_data_yaml)\n",
    "  # new_data_yaml: dict = absolute_train_val_paths(extract_folder_path, data_yaml)\n",
    "  new_data_yaml: dict = swap_coral_class_order(\n",
    "      extract_folder_path,\n",
    "      absolute_train_val_paths(extract_folder_path, data_yaml)\n",
    "  )\n",
    "  write_yaml(path_data_yaml, new_data_yaml)\n",
    "  print(f'updating absolute paths in data.yaml content {new_data_yaml}')\n",
    "\n",
    "  return {\n",
    "      'extract_folder_path': extract_folder_path,\n",
    "      'new_data_yaml': new_data_yaml,\n",
    "      }"
   ]
  },
  {
   "cell_type": "markdown",
   "metadata": {
    "id": "KR3WQ0G7MXkU"
   },
   "source": [
    "## Training YOLOv8"
   ]
  },
  {
   "cell_type": "markdown",
   "metadata": {
    "id": "sepR698GMcfc"
   },
   "source": [
    "### Getting the dataset ready"
   ]
  },
  {
   "cell_type": "markdown",
   "metadata": {
    "id": "A_YOOYwRMkro"
   },
   "source": [
    "We first need to mount GDrive and extract the archive file in the temporary directory.\n",
    "By default, the archive is extracted in `/content/datasets_ready_for_yolov8_training`.\n",
    "One needs to update the `GDRIVE_ARCHIVE_ROOT_DIR` variable that points to the root of all the archive files and the 'ARCHIVE_NAME` that contains the filename of the archive."
   ]
  },
  {
   "cell_type": "code",
   "execution_count": 4,
   "metadata": {
    "colab": {
     "base_uri": "https://localhost:8080/"
    },
    "id": "CVfdrPDHXnzP",
    "outputId": "fda8f318-9777-4971-ea73-3558da470540"
   },
   "outputs": [
    {
     "name": "stdout",
     "output_type": "stream",
     "text": [
      "Drive already mounted at /content/drive; to attempt to forcibly remount, call drive.mount(\"/content/drive\", force_remount=True).\n"
     ]
    }
   ],
   "source": [
    "drive.mount('/content/drive')"
   ]
  },
  {
   "cell_type": "code",
   "execution_count": 5,
   "metadata": {
    "id": "yYwqXR4dNChR"
   },
   "outputs": [],
   "source": [
    "GDRIVE_ARCHIVE_ROOT_DIR = '/content/drive/MyDrive/fruitpunchai/coralreefs/datasets_ready_for_yolov8_training/'\n",
    "# ARCHIVE_NAME = 'archive_SEAFLOWER_BOLIVAR.zip'\n",
    "ARCHIVE_NAME = 'archive_SEAFLOWER_BOLIVAR_and_SEAFLOWER_COURTOWN_and_SEAVIEW_ATL_and_SEAVIEW_IDN_PHL_and_SEAVIEW_PAC_AUS_and_TETES_PROVIDENCIA.zip'"
   ]
  },
  {
   "cell_type": "code",
   "execution_count": 6,
   "metadata": {
    "colab": {
     "base_uri": "https://localhost:8080/"
    },
    "id": "qrzUGsfVNjSL",
    "outputId": "61384c87-8c10-4abb-cd91-bdcb74939cfe"
   },
   "outputs": [
    {
     "data": {
      "text/plain": [
       "['archive_SEAFLOWER_COURTOWN.zip',\n",
       " 'archive_SEAVIEW_PAC_USA.zip',\n",
       " 'archive_SEAVIEW_ATL.zip',\n",
       " 'archive_TETES_PROVIDENCIA.zip',\n",
       " 'archive_SEAVIEW_IDN_PHL.zip',\n",
       " 'archive_SEAVIEW_PAC_AUS.zip',\n",
       " 'archive_SEAFLOWER_BOLIVAR_and_SEAFLOWER_COURTOWN_and_SEAVIEW_ATL_and_SEAVIEW_IDN_PHL_and_SEAVIEW_PAC_AUS_and_TETES_PROVIDENCIA.zip',\n",
       " 'archive_SEAFLOWER_BOLIVAR.zip']"
      ]
     },
     "execution_count": 6,
     "metadata": {},
     "output_type": "execute_result"
    }
   ],
   "source": [
    "# List all available archive names\n",
    "# Update `ARCHIVE_NAME` with the one you want to use\n",
    "[f for f in os.listdir(GDRIVE_ARCHIVE_ROOT_DIR) if f.endswith('.zip')]"
   ]
  },
  {
   "cell_type": "code",
   "execution_count": 7,
   "metadata": {
    "colab": {
     "base_uri": "https://localhost:8080/"
    },
    "id": "RytSYhqEERPP",
    "outputId": "d2a71b97-1e09-4874-f95b-7c33cf57d76d"
   },
   "outputs": [
    {
     "name": "stdout",
     "output_type": "stream",
     "text": [
      "archive /content/drive/MyDrive/fruitpunchai/coralreefs/datasets_ready_for_yolov8_training/archive_SEAFLOWER_BOLIVAR_and_SEAFLOWER_COURTOWN_and_SEAVIEW_ATL_and_SEAVIEW_IDN_PHL_and_SEAVIEW_PAC_AUS_and_TETES_PROVIDENCIA.zip extracted in /content/datasets_ready_for_yolov8_training/SEAFLOWER_BOLIVAR_and_SEAFLOWER_COURTOWN_and_SEAVIEW_ATL_and_SEAVIEW_IDN_PHL_and_SEAVIEW_PAC_AUS_and_TETES_PROVIDENCIA\n",
      "updating absolute paths in data.yaml content {'train': '/content/datasets_ready_for_yolov8_training/SEAFLOWER_BOLIVAR_and_SEAFLOWER_COURTOWN_and_SEAVIEW_ATL_and_SEAVIEW_IDN_PHL_and_SEAVIEW_PAC_AUS_and_TETES_PROVIDENCIA/train/images', 'val': '/content/datasets_ready_for_yolov8_training/SEAFLOWER_BOLIVAR_and_SEAFLOWER_COURTOWN_and_SEAVIEW_ATL_and_SEAVIEW_IDN_PHL_and_SEAVIEW_PAC_AUS_and_TETES_PROVIDENCIA/val/images', 'nc': 2, 'names': ['hard_coral', 'soft_coral']}\n"
     ]
    },
    {
     "data": {
      "text/plain": [
       "{'extract_folder_path': PosixPath('/content/datasets_ready_for_yolov8_training/SEAFLOWER_BOLIVAR_and_SEAFLOWER_COURTOWN_and_SEAVIEW_ATL_and_SEAVIEW_IDN_PHL_and_SEAVIEW_PAC_AUS_and_TETES_PROVIDENCIA'),\n",
       " 'new_data_yaml': {'train': '/content/datasets_ready_for_yolov8_training/SEAFLOWER_BOLIVAR_and_SEAFLOWER_COURTOWN_and_SEAVIEW_ATL_and_SEAVIEW_IDN_PHL_and_SEAVIEW_PAC_AUS_and_TETES_PROVIDENCIA/train/images',\n",
       "  'val': '/content/datasets_ready_for_yolov8_training/SEAFLOWER_BOLIVAR_and_SEAFLOWER_COURTOWN_and_SEAVIEW_ATL_and_SEAVIEW_IDN_PHL_and_SEAVIEW_PAC_AUS_and_TETES_PROVIDENCIA/val/images',\n",
       "  'nc': 2,\n",
       "  'names': ['hard_coral', 'soft_coral']}}"
      ]
     },
     "execution_count": 7,
     "metadata": {},
     "output_type": "execute_result"
    }
   ],
   "source": [
    "# Archive extraction\n",
    "path_archive = Path(GDRIVE_ARCHIVE_ROOT_DIR) / ARCHIVE_NAME\n",
    "archive_result = extract_archive(path_archive)\n",
    "archive_result"
   ]
  },
  {
   "cell_type": "markdown",
   "metadata": {
    "id": "wSVzUeBeMf_u"
   },
   "source": [
    "### Training"
   ]
  },
  {
   "cell_type": "markdown",
   "metadata": {
    "id": "Q3I8Kg8bY0o0"
   },
   "source": [
    "To establish our baseline models, we picked the following parameters:\n",
    "\n",
    "```python\n",
    "MODEL_SIZE: str = 'm'          \n",
    "EPOCHS: int = 20              \n",
    "CV_TASK: str = 'segmentation'  \n",
    "```"
   ]
  },
  {
   "cell_type": "code",
   "execution_count": 8,
   "metadata": {
    "id": "UakEdFCjPB2T"
   },
   "outputs": [],
   "source": [
    "# Choose the training parameters\n",
    "MODEL_SIZE: str = 'm'          # Can be n, s, m, l, x\n",
    "EPOCHS: int = 20               # Positive integer\n",
    "CV_TASK: str = 'segmentation'  # `segmentation` or `object_detection`\n",
    "\n",
    "\n",
    "# TODO: add others like learning_rate, Optimizer, etc."
   ]
  },
  {
   "cell_type": "code",
   "execution_count": 9,
   "metadata": {
    "id": "70XtYqzSPz6V"
   },
   "outputs": [],
   "source": [
    "# Derived parameters from the above cells\n",
    "yolo_model = f'yolov8{MODEL_SIZE}{\"-seg\" if CV_TASK == \"segmentation\" else \"\"}.pt'\n",
    "yolo_data_yaml_path = str(archive_result['extract_folder_path'] / 'data.yaml')"
   ]
  },
  {
   "cell_type": "code",
   "execution_count": null,
   "metadata": {
    "colab": {
     "base_uri": "https://localhost:8080/"
    },
    "id": "qTU4_Xp87p1f",
    "outputId": "ea6af123-1ba0-4ab0-e9aa-211832919f19"
   },
   "outputs": [
    {
     "name": "stdout",
     "output_type": "stream",
     "text": [
      "Downloading https://github.com/ultralytics/assets/releases/download/v0.0.0/yolov8m-seg.pt to 'yolov8m-seg.pt'...\n",
      "100% 52.4M/52.4M [00:00<00:00, 77.5MB/s]\n",
      "Ultralytics YOLOv8.0.225 🚀 Python-3.10.12 torch-2.1.0+cu118 CUDA:0 (Tesla T4, 15102MiB)\n",
      "\u001b[34m\u001b[1mengine/trainer: \u001b[0mtask=segment, mode=train, model=yolov8m-seg.pt, data=/content/datasets_ready_for_yolov8_training/SEAFLOWER_BOLIVAR_and_SEAFLOWER_COURTOWN_and_SEAVIEW_ATL_and_SEAVIEW_IDN_PHL_and_SEAVIEW_PAC_AUS_and_TETES_PROVIDENCIA/data.yaml, epochs=20, patience=50, batch=16, imgsz=640, save=True, save_period=-1, cache=False, device=None, workers=8, project=None, name=train, exist_ok=False, pretrained=True, optimizer=auto, verbose=True, seed=0, deterministic=True, single_cls=False, rect=False, cos_lr=False, close_mosaic=10, resume=False, amp=True, fraction=1.0, profile=False, freeze=None, overlap_mask=True, mask_ratio=4, dropout=0.0, val=True, split=val, save_json=False, save_hybrid=False, conf=None, iou=0.7, max_det=300, half=False, dnn=False, plots=True, source=None, vid_stride=1, stream_buffer=False, visualize=False, augment=False, agnostic_nms=False, classes=None, retina_masks=False, show=False, save_frames=False, save_txt=False, save_conf=False, save_crop=False, show_labels=True, show_conf=True, show_boxes=True, line_width=None, format=torchscript, keras=False, optimize=False, int8=False, dynamic=False, simplify=False, opset=None, workspace=4, nms=False, lr0=0.01, lrf=0.01, momentum=0.937, weight_decay=0.0005, warmup_epochs=3.0, warmup_momentum=0.8, warmup_bias_lr=0.1, box=7.5, cls=0.5, dfl=1.5, pose=12.0, kobj=1.0, label_smoothing=0.0, nbs=64, hsv_h=0.015, hsv_s=0.7, hsv_v=0.4, degrees=0.0, translate=0.1, scale=0.5, shear=0.0, perspective=0.0, flipud=0.0, fliplr=0.5, mosaic=1.0, mixup=0.0, copy_paste=0.0, cfg=None, tracker=botsort.yaml, save_dir=runs/segment/train\n",
      "Downloading https://ultralytics.com/assets/Arial.ttf to '/root/.config/Ultralytics/Arial.ttf'...\n",
      "100% 755k/755k [00:00<00:00, 4.24MB/s]\n",
      "2023-12-10 16:55:52.906735: E tensorflow/compiler/xla/stream_executor/cuda/cuda_dnn.cc:9342] Unable to register cuDNN factory: Attempting to register factory for plugin cuDNN when one has already been registered\n",
      "2023-12-10 16:55:52.906792: E tensorflow/compiler/xla/stream_executor/cuda/cuda_fft.cc:609] Unable to register cuFFT factory: Attempting to register factory for plugin cuFFT when one has already been registered\n",
      "2023-12-10 16:55:52.906846: E tensorflow/compiler/xla/stream_executor/cuda/cuda_blas.cc:1518] Unable to register cuBLAS factory: Attempting to register factory for plugin cuBLAS when one has already been registered\n",
      "Overriding model.yaml nc=80 with nc=2\n",
      "\n",
      "                   from  n    params  module                                       arguments                     \n",
      "  0                  -1  1      1392  ultralytics.nn.modules.conv.Conv             [3, 48, 3, 2]                 \n",
      "  1                  -1  1     41664  ultralytics.nn.modules.conv.Conv             [48, 96, 3, 2]                \n",
      "  2                  -1  2    111360  ultralytics.nn.modules.block.C2f             [96, 96, 2, True]             \n",
      "  3                  -1  1    166272  ultralytics.nn.modules.conv.Conv             [96, 192, 3, 2]               \n",
      "  4                  -1  4    813312  ultralytics.nn.modules.block.C2f             [192, 192, 4, True]           \n",
      "  5                  -1  1    664320  ultralytics.nn.modules.conv.Conv             [192, 384, 3, 2]              \n",
      "  6                  -1  4   3248640  ultralytics.nn.modules.block.C2f             [384, 384, 4, True]           \n",
      "  7                  -1  1   1991808  ultralytics.nn.modules.conv.Conv             [384, 576, 3, 2]              \n",
      "  8                  -1  2   3985920  ultralytics.nn.modules.block.C2f             [576, 576, 2, True]           \n",
      "  9                  -1  1    831168  ultralytics.nn.modules.block.SPPF            [576, 576, 5]                 \n",
      " 10                  -1  1         0  torch.nn.modules.upsampling.Upsample         [None, 2, 'nearest']          \n",
      " 11             [-1, 6]  1         0  ultralytics.nn.modules.conv.Concat           [1]                           \n",
      " 12                  -1  2   1993728  ultralytics.nn.modules.block.C2f             [960, 384, 2]                 \n",
      " 13                  -1  1         0  torch.nn.modules.upsampling.Upsample         [None, 2, 'nearest']          \n",
      " 14             [-1, 4]  1         0  ultralytics.nn.modules.conv.Concat           [1]                           \n",
      " 15                  -1  2    517632  ultralytics.nn.modules.block.C2f             [576, 192, 2]                 \n",
      " 16                  -1  1    332160  ultralytics.nn.modules.conv.Conv             [192, 192, 3, 2]              \n",
      " 17            [-1, 12]  1         0  ultralytics.nn.modules.conv.Concat           [1]                           \n",
      " 18                  -1  2   1846272  ultralytics.nn.modules.block.C2f             [576, 384, 2]                 \n",
      " 19                  -1  1   1327872  ultralytics.nn.modules.conv.Conv             [384, 384, 3, 2]              \n",
      " 20             [-1, 9]  1         0  ultralytics.nn.modules.conv.Concat           [1]                           \n",
      " 21                  -1  2   4207104  ultralytics.nn.modules.block.C2f             [960, 576, 2]                 \n",
      " 22        [15, 18, 21]  1   5160182  ultralytics.nn.modules.head.Segment          [2, 32, 192, [192, 384, 576]] \n",
      "YOLOv8m-seg summary: 331 layers, 27240806 parameters, 27240790 gradients, 110.4 GFLOPs\n",
      "\n",
      "Transferred 531/537 items from pretrained weights\n",
      "\u001b[34m\u001b[1mTensorBoard: \u001b[0mStart with 'tensorboard --logdir runs/segment/train', view at http://localhost:6006/\n",
      "Freezing layer 'model.22.dfl.conv.weight'\n",
      "\u001b[34m\u001b[1mAMP: \u001b[0mrunning Automatic Mixed Precision (AMP) checks with YOLOv8n...\n",
      "Downloading https://github.com/ultralytics/assets/releases/download/v0.0.0/yolov8n.pt to 'yolov8n.pt'...\n",
      "100% 6.23M/6.23M [00:00<00:00, 22.5MB/s]\n",
      "\u001b[34m\u001b[1mAMP: \u001b[0mchecks passed ✅\n",
      "\u001b[34m\u001b[1mtrain: \u001b[0mScanning /content/datasets_ready_for_yolov8_training/SEAFLOWER_BOLIVAR_and_SEAFLOWER_COURTOWN_and_SEAVIEW_ATL_and_SEAVIEW_IDN_PHL_and_SEAVIEW_PAC_AUS_and_TETES_PROVIDENCIA/train/labels... 2056 images, 255 backgrounds, 0 corrupt: 100% 2056/2056 [00:15<00:00, 133.98it/s]\n",
      "\u001b[34m\u001b[1mtrain: \u001b[0mNew cache created: /content/datasets_ready_for_yolov8_training/SEAFLOWER_BOLIVAR_and_SEAFLOWER_COURTOWN_and_SEAVIEW_ATL_and_SEAVIEW_IDN_PHL_and_SEAVIEW_PAC_AUS_and_TETES_PROVIDENCIA/train/labels.cache\n",
      "\u001b[34m\u001b[1malbumentations: \u001b[0mBlur(p=0.01, blur_limit=(3, 7)), MedianBlur(p=0.01, blur_limit=(3, 7)), ToGray(p=0.01), CLAHE(p=0.01, clip_limit=(1, 4.0), tile_grid_size=(8, 8))\n",
      "\u001b[34m\u001b[1mval: \u001b[0mScanning /content/datasets_ready_for_yolov8_training/SEAFLOWER_BOLIVAR_and_SEAFLOWER_COURTOWN_and_SEAVIEW_ATL_and_SEAVIEW_IDN_PHL_and_SEAVIEW_PAC_AUS_and_TETES_PROVIDENCIA/val/labels... 515 images, 75 backgrounds, 0 corrupt: 100% 515/515 [00:08<00:00, 64.29it/s]\n",
      "\u001b[34m\u001b[1mval: \u001b[0mNew cache created: /content/datasets_ready_for_yolov8_training/SEAFLOWER_BOLIVAR_and_SEAFLOWER_COURTOWN_and_SEAVIEW_ATL_and_SEAVIEW_IDN_PHL_and_SEAVIEW_PAC_AUS_and_TETES_PROVIDENCIA/val/labels.cache\n",
      "Plotting labels to runs/segment/train/labels.jpg... \n",
      "\u001b[34m\u001b[1moptimizer:\u001b[0m 'optimizer=auto' found, ignoring 'lr0=0.01' and 'momentum=0.937' and determining best 'optimizer', 'lr0' and 'momentum' automatically... \n",
      "\u001b[34m\u001b[1moptimizer:\u001b[0m AdamW(lr=0.001667, momentum=0.9) with parameter groups 86 weight(decay=0.0), 97 weight(decay=0.0005), 96 bias(decay=0.0)\n",
      "Image sizes 640 train, 640 val\n",
      "Using 2 dataloader workers\n",
      "Logging results to \u001b[1mruns/segment/train\u001b[0m\n",
      "Starting training for 20 epochs...\n",
      "\n",
      "      Epoch    GPU_mem   box_loss   seg_loss   cls_loss   dfl_loss  Instances       Size\n",
      "       1/20      9.65G      1.325      2.637       1.85      1.319        234        640: 100% 129/129 [05:53<00:00,  2.74s/it]\n",
      "                 Class     Images  Instances      Box(P          R      mAP50  mAP50-95)     Mask(P          R      mAP50  mAP50-95): 100% 17/17 [00:33<00:00,  1.95s/it]\n",
      "                   all        515       9948      0.257      0.278      0.208       0.13      0.261      0.276      0.209      0.118\n",
      "\n",
      "      Epoch    GPU_mem   box_loss   seg_loss   cls_loss   dfl_loss  Instances       Size\n",
      "       2/20      9.98G      1.287      2.439      1.575       1.27        261        640: 100% 129/129 [05:46<00:00,  2.69s/it]\n",
      "                 Class     Images  Instances      Box(P          R      mAP50  mAP50-95)     Mask(P          R      mAP50  mAP50-95): 100% 17/17 [00:30<00:00,  1.77s/it]\n",
      "                   all        515       9948      0.458      0.412      0.374      0.235      0.457      0.401      0.359        0.2\n",
      "\n",
      "      Epoch    GPU_mem   box_loss   seg_loss   cls_loss   dfl_loss  Instances       Size\n",
      "       3/20      10.1G      1.298      2.458      1.583      1.282        417        640:  54% 70/129 [03:10<02:07,  2.16s/it]"
     ]
    }
   ],
   "source": [
    "!yolo train data=$yolo_data_yaml_path model=$yolo_model epochs=$EPOCHS"
   ]
  },
  {
   "cell_type": "code",
   "execution_count": null,
   "metadata": {
    "id": "F-WsCa4ETYOY"
   },
   "outputs": [],
   "source": [
    "shutil.make_archive(\n",
    "  # '/content/SEAFLOWER_BOLIVAR_baseline_yolov8_session_runs',\n",
    "  '/content/ALL_REGIONS_baseline_yolov8_session_runs',\n",
    "  'zip',\n",
    "  '/content/runs'\n",
    "  )"
   ]
  },
  {
   "cell_type": "code",
   "execution_count": null,
   "metadata": {
    "id": "7xVx46lzpATe"
   },
   "outputs": [],
   "source": []
  }
 ],
 "metadata": {
  "accelerator": "GPU",
  "colab": {
   "gpuType": "T4",
   "provenance": []
  },
  "jupytext": {
   "formats": "ipynb,auto:percent"
  },
  "kernelspec": {
   "display_name": "Python 3 (ipykernel)",
   "language": "python",
   "name": "python3"
  },
  "language_info": {
   "codemirror_mode": {
    "name": "ipython",
    "version": 3
   },
   "file_extension": ".py",
   "mimetype": "text/x-python",
   "name": "python",
   "nbconvert_exporter": "python",
   "pygments_lexer": "ipython3",
   "version": "3.9.18"
  }
 },
 "nbformat": 4,
 "nbformat_minor": 4
}
